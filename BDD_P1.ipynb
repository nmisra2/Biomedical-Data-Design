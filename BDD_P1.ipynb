{
  "cells": [
    {
      "cell_type": "markdown",
      "metadata": {
        "id": "2X9_TJnZKA6i"
      },
      "source": [
        "\n",
        "# First In-class Project: Coding a Rank-order Assignment Algorithm\n",
        "## TEAM INFORMATION:\n",
        "* Naina Misra\n",
        "* Rex Wang\n",
        "* Phoebe Wu\n",
        "\n",
        "\n",
        "## Demo"
      ]
    },
    {
      "cell_type": "code",
      "execution_count": 2,
      "metadata": {
        "colab": {
          "base_uri": "https://localhost:8080/"
        },
        "id": "HZrJahUaoDnY",
        "outputId": "7b25f3b5-35c5-46f4-8331-d5a644a4baf1"
      },
      "outputs": [
        {
          "name": "stdout",
          "output_type": "stream",
          "text": [
            "Doctor 0 wasn't assigned to a hospital :(\n",
            "Doctor 1 is matched to hospital 1\n",
            "Doctor 2 is matched to hospital 0\n",
            "Doctor 3 is matched to hospital 1\n",
            "Doctor 4 is matched to hospital 2\n"
          ]
        }
      ],
      "source": [
        "from DoctorAssigner import assign_doctors\n",
        "\n",
        "# -------------------\n",
        "# Input your matrix in ranks and chosen capacities here\n",
        "# Example usage given\n",
        "# -------------------\n",
        "if __name__ == \"__main__\":\n",
        "    # ranks[i][j] = doctor i’s rank for hospital j\n",
        "    ranks = [\n",
        "        [1, 3, 2],\n",
        "        [3, 1, 2],\n",
        "        [1, 3, 2],\n",
        "        [1, 2, 3],\n",
        "        [2, 3, 1]\n",
        "    ]\n",
        "\n",
        "    capacities = [1, 2, 1]                           #Hospital 0 has 1 slot, hospital 1 has 2 slots, hospital 2 has 1 slot (total 3 hospitals, total 4 slots)\n",
        "\n",
        "    assignments = assign_doctors(ranks, capacities)        #Calls function to run assignment algorithm"
      ]
    }
  ],
  "metadata": {
    "colab": {
      "provenance": []
    },
    "kernelspec": {
      "display_name": "Python 3",
      "name": "python3"
    },
    "language_info": {
      "codemirror_mode": {
        "name": "ipython",
        "version": 3
      },
      "file_extension": ".py",
      "mimetype": "text/x-python",
      "name": "python",
      "nbconvert_exporter": "python",
      "pygments_lexer": "ipython3",
      "version": "3.12.2"
    }
  },
  "nbformat": 4,
  "nbformat_minor": 0
}

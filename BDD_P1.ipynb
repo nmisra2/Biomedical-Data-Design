{
  "cells": [
    {
      "cell_type": "markdown",
      "metadata": {
        "id": "2X9_TJnZKA6i"
      },
      "source": [
        "\n",
        "# First In-class Project: Coding a Rank-order Assignment Algorithm\n",
        "## TEAM INFORMATION:\n",
        "* Naina Misra\n",
        "* Rex Wang\n",
        "* Phoebe Wu\n",
        "\n",
        "\n",
        "## CONTRIBUTIONS:\n",
        "* Naina - Conducted research, helped develop code for Hungarian algorithm, developed the code to output which doctors are matched to each hospital, edited code, wrote introduction\n",
        "* Rex - Conducted research, helped develop code handling input and printing output\n",
        "* Phoebe - Conducted research and found resources, helped brainstorm assignment system, commented code, wrote Algorithm Implemented\n",
        "\n",
        "\n",
        "## ASSUMPTIONS:\n",
        "* Hospitals do not participate in ranking doctors\n",
        "* Doctors will always rank every hospital\n",
        "* Input matrix will be i = doctors, j = hospital\n",
        "* Capacity for each hospital will be mentioned in capacities, and be non-negative\n",
        "\n",
        "\n",
        "## ALGORITHM IMPLEMENTED:\n",
        "\n",
        "We need to assign doctors to hospitals based on their ranked preference.\n",
        "\n",
        "The doctors rank their preference of hospitals with (1) being the number one preference and larger numbers representing lower preference.\n",
        "\n",
        "There is a capacity for the number of doctors for each hospital and a doctor can only be assigned to one hospital.\n",
        "\n",
        "To solve this problem, we choose to work with the Hungarian Algorithm, which is also known as the Munkres Algorithm.\n",
        "\n",
        "This algorithm provides a way to match a doctor to a hospital while minimizing the cost. In our system, the cost is defined based on the doctor's preference.\n",
        "Therefore, the higher the rank of the hospital (1 being the highest), the lower the cost.\n",
        "\n",
        "The preferences data was represented by a matrix with the rows being the doctor's preferences of each hospital and the hospital as columns.\n",
        "When a hospital had multiple slots open, the matrix was expanded to have multiple columns representing the hospital to reflect the capacity.\n",
        "The Munkres Algorithm requires a square matrix.\n",
        "\n",
        "However, sometimes, the number of doctors and hospitals may be unequal.\n",
        "Therefore, the matrix was padded with dummy doctors or hospital slots to ensure the algorithm runs smoothly while the doctors that were\n",
        "unmatched remained unassigned.\n",
        "\n",
        "The Munkres library in Python was used to compute the assignments.\n",
        "The algorithm produces a list of doctors matched with hospitals as well as doctors that did not have a match (unmatched).\n",
        "\n",
        "Munkres Explained\n",
        "\n",
        "It is an algorithm based on the Hungarian algorithm that finds the minimum-cost assignment on a bipartite graph, represented as a cost matrix where rows are one partition (e.g., doctors), columns the other (e.g., hospitals), and each cell is the assignment cost. When multiple equal-cost matchings (ties) exist, the algorithm still returns one optimal assignment. The assignment that is given depends on the internal implementation details (e.g., the order in which rows/columns are processed, how augmenting paths are picked, or the order of scanning for zeros in the cost matrix). In our case, based on the source code, the algorithm scans rows top to bottom and columnns left to right. Once it finds the first feasible zero it stars it and breaks the loop. If multiple zeros are available, the lowest-indexed row gets served first, and within that row the lowest-indexed column is chosen. This is the primary tie-breaker. When multiple equally optimal matchings exist, such as in the case of the doctors ranking all the hospitals the same, it consistently favors assignments involving lower-indexed rows and columns.\n",
        "\n",
        "\n",
        "\n",
        "## RESOURCES USED:\n",
        "### Hungarian algorithm original paper\n",
        "Harold W. Kuhn (1955). The Hungarian Method for the Assignment Problem. Naval Research Logistics Quarterly, 2(1–2), 83–97.\n",
        "\n",
        "### Munkres explained\n",
        "https://brilliant.org/wiki/hungarian-matching/\n",
        "\n",
        "### Munkres package documentation\n",
        "https://software.clapper.org/munkres/\n",
        "\n",
        "### Munkres package source code\n",
        "https://github.com/bmc/munkres/blob/master/munkres.py"
      ]
    },
    {
      "cell_type": "code",
      "execution_count": 2,
      "metadata": {
        "colab": {
          "base_uri": "https://localhost:8080/"
        },
        "id": "HZrJahUaoDnY",
        "outputId": "7b25f3b5-35c5-46f4-8331-d5a644a4baf1"
      },
      "outputs": [
        {
          "name": "stdout",
          "output_type": "stream",
          "text": [
            "Doctor 0 is matched to hospital 0\n",
            "Doctor 1 is matched to hospital 1\n",
            "Doctor 2 is matched to hospital 2\n",
            "Doctor 3 is matched to hospital 1\n",
            "Doctor 4 wasn't assigned to a hospital :(\n"
          ]
        }
      ],
      "source": [
        "from DoctorAssigner import assign_doctors\n",
        "\n",
        "# -------------------\n",
        "# Input your matrix in ranks and chosen capacities here\n",
        "# Example usage given\n",
        "# -------------------\n",
        "if __name__ == \"__main__\":\n",
        "    # ranks[i][j] = doctor i’s rank for hospital j\n",
        "    ranks = [\n",
        "        [1, 3, 2],\n",
        "        [3, 1, 2],\n",
        "        [2, 3, 1],\n",
        "        [1, 2, 3],\n",
        "        [2, 3, 1]\n",
        "    ]\n",
        "\n",
        "    capacities = [1, 2, 1]                           #Hospital 0 has 1 slot, hospital 1 has 1 slot, hospital 2 has 1 slot, hospital 3 has 1 slot, hospital 4 has 1 slot (total 5 hospitals, total 5 slots)\n",
        "\n",
        "    assignments = assign_doctors(ranks, capacities)        #Calls function to run assignment algorithm"
      ]
    }
  ],
  "metadata": {
    "colab": {
      "provenance": []
    },
    "kernelspec": {
      "display_name": "Python 3",
      "name": "python3"
    },
    "language_info": {
      "codemirror_mode": {
        "name": "ipython",
        "version": 3
      },
      "file_extension": ".py",
      "mimetype": "text/x-python",
      "name": "python",
      "nbconvert_exporter": "python",
      "pygments_lexer": "ipython3",
      "version": "3.12.2"
    }
  },
  "nbformat": 4,
  "nbformat_minor": 0
}
